{
 "cells": [
  {
   "cell_type": "code",
   "execution_count": 1,
   "metadata": {
    "scrolled": true
   },
   "outputs": [],
   "source": [
    "def CreateGrid():\n",
    "    \n",
    "    Grid = [[0 for col in range(N)] for row in range(N)] # creates a 2D list of size N*N at runtime \n",
    "\n",
    "    # the loop below is used to initialize the Grid\n",
    "\n",
    "    for i in range(N):   \n",
    "        for j in range(N):\n",
    "            Grid[i][j]= '-'\n",
    "    \n",
    "    return Grid \n",
    "\n",
    "def PrintGrid():\n",
    "    \n",
    "    # the loop below is used to print the Grid\n",
    "        \n",
    "    for i in range(N):\n",
    "        for j in range(N):\n",
    "            print(Grid[i][j] , end = \" \")\n",
    "        print()"
   ]
  },
  {
   "cell_type": "code",
   "execution_count": 2,
   "metadata": {},
   "outputs": [],
   "source": [
    "def illegal(row,col):\n",
    "    \n",
    "    # check for rows on the left side \n",
    "    \n",
    "    for i in range(col):\n",
    "        if Grid[row][i] == 'Q':\n",
    "            return True  \n",
    "        \n",
    "    # check for diagonal below \n",
    "    \n",
    "    i = row\n",
    "    j = col\n",
    "    \n",
    "    while i < N and j >= 0:\n",
    "        if Grid[i][j] == 'Q':\n",
    "            return True\n",
    "        i = i+1\n",
    "        j = j-1\n",
    "        \n",
    "    # check for diagonal above \n",
    "    \n",
    "    i = row\n",
    "    j = col\n",
    "    \n",
    "    while i>=0 and j >= 0:\n",
    "        if Grid[i][j] == 'Q':\n",
    "            return True \n",
    "        i = i-1\n",
    "        j = j-1\n",
    "        \n",
    "    # if the placement of Queen is legal\n",
    "    \n",
    "    return False"
   ]
  },
  {
   "cell_type": "code",
   "execution_count": 3,
   "metadata": {},
   "outputs": [],
   "source": [
    "def NQueens(col):\n",
    "    \n",
    "    if col >= N:  # to check if we reached last column of the grid (all queens have been placed)\n",
    "        return True\n",
    "    \n",
    "    row=0\n",
    "    \n",
    "    while row < N: # iterating through the column  \n",
    "        \n",
    "        if not illegal(row,col): # checking if the Queen can be placed in the Grid \n",
    "            \n",
    "            Grid[row][col]='Q'\n",
    "                \n",
    "            if NQueens(col+1): # recursive call\n",
    "                return True\n",
    "                \n",
    "            Grid[row][col]='-' # if the placement of the Queen in the current column doesn't give solution \n",
    "        \n",
    "        row += 1\n",
    "            \n",
    "    return False"
   ]
  },
  {
   "cell_type": "code",
   "execution_count": 4,
   "metadata": {},
   "outputs": [
    {
     "name": "stdout",
     "output_type": "stream",
     "text": [
      "Enter the number of queens: 5\n",
      "Q - - - - \n",
      "- - - Q - \n",
      "- Q - - - \n",
      "- - - - Q \n",
      "- - Q - - \n"
     ]
    }
   ],
   "source": [
    "N = int(input(\"Enter the number of queens: \"))  # takes the number of queens as input\n",
    "Grid = CreateGrid() \n",
    "NQueens(0) # the function which solves the problem through backtracking\n",
    "PrintGrid()"
   ]
  },
  {
   "cell_type": "code",
   "execution_count": null,
   "metadata": {},
   "outputs": [],
   "source": []
  }
 ],
 "metadata": {
  "kernelspec": {
   "display_name": "Python 3",
   "language": "python",
   "name": "python3"
  },
  "language_info": {
   "codemirror_mode": {
    "name": "ipython",
    "version": 3
   },
   "file_extension": ".py",
   "mimetype": "text/x-python",
   "name": "python",
   "nbconvert_exporter": "python",
   "pygments_lexer": "ipython3",
   "version": "3.7.4"
  }
 },
 "nbformat": 4,
 "nbformat_minor": 2
}
